{
  "nbformat": 4,
  "nbformat_minor": 0,
  "metadata": {
    "colab": {
      "name": "Py1_real_project",
      "provenance": [],
      "collapsed_sections": [],
      "mount_file_id": "1OXaFpJaZEaOQBMLg1waQdaIIduJW4AJ4",
      "authorship_tag": "ABX9TyPh44C1bbSBByShA8AqlSM3",
      "include_colab_link": true
    },
    "kernelspec": {
      "name": "python3",
      "display_name": "Python 3"
    },
    "language_info": {
      "name": "python"
    }
  },
  "cells": [
    {
      "cell_type": "markdown",
      "metadata": {
        "id": "view-in-github",
        "colab_type": "text"
      },
      "source": [
        "<a href=\"https://colab.research.google.com/github/skalgit/canadiandata/blob/master/Py1_real_project.ipynb\" target=\"_parent\"><img src=\"https://colab.research.google.com/assets/colab-badge.svg\" alt=\"Open In Colab\"/></a>"
      ]
    },
    {
      "cell_type": "code",
      "metadata": {
        "id": "tJvMuPC2uSuC",
        "colab": {
          "base_uri": "https://localhost:8080/"
        },
        "outputId": "c4964df2-9409-4cea-ed7a-71d41197de1d"
      },
      "source": [
        "import pandas as pd\n",
        "import os\n",
        "\n",
        "# df = pd.read_csv(r\"C:\\stuff\\python\\real application\\files\\Sales_April_2019.csv\")\n",
        "# print (df.head())\n",
        "allMonthsData = pd.DataFrame()\n",
        "path = \"drive/MyDrive/python/real_application/files/\"\n",
        "files = os.listdir(path)\n",
        "for file in files:\n",
        "    tmppd = pd.read_csv(path + file)\n",
        "    allMonthsData = pd.concat([allMonthsData,tmppd])\n",
        "\n",
        "\n",
        "print(allMonthsData.count())\n",
        "\n",
        "\n",
        "\n",
        "\n",
        "\n"
      ],
      "execution_count": null,
      "outputs": [
        {
          "output_type": "stream",
          "text": [
            "Order ID            186305\n",
            "Product             186305\n",
            "Quantity Ordered    186305\n",
            "Price Each          186305\n",
            "Order Date          186305\n",
            "Purchase Address    186305\n",
            "dtype: int64\n"
          ],
          "name": "stdout"
        }
      ]
    }
  ]
}